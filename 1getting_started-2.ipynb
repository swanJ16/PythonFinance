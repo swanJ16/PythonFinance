{
  "nbformat": 4,
  "nbformat_minor": 0,
  "metadata": {
    "colab": {
      "provenance": []
    },
    "kernelspec": {
      "name": "python3",
      "display_name": "Python 3"
    },
    "language_info": {
      "name": "python"
    }
  },
  "cells": [
    {
      "cell_type": "code",
      "execution_count": null,
      "metadata": {
        "id": "nYYuGw8mV7OU"
      },
      "outputs": [],
      "source": [
        "#1getting_started.py\n",
        "\n",
        "# 1. Syntax\n",
        "\n",
        "# 1.1 Insert the missing indentation to make the code correct:\n",
        "# HINT: https://www.w3schools.com/python/python_syntax.asp\n",
        "\n",
        "# TODO: update the code below\n",
        "if 4 ==2 :\n",
        "  print(\"Four is equal to two!\")\n",
        "\n",
        "\n"
      ]
    },
    {
      "cell_type": "code",
      "source": [
        "# 1.2 Variables\n",
        "# HINT: https://www.w3schools.com/python/python_variables.asp\n",
        "\n",
        "#1.2.1 Create a variable named fruit and assign the value Apple to it.\n",
        "# TODO: Write your code below\n",
        "\n",
        "fruit = \"Apple\"\n"
      ],
      "metadata": {
        "id": "2H3N2RaAWlg7"
      },
      "execution_count": null,
      "outputs": []
    },
    {
      "cell_type": "code",
      "source": [
        "# 1.2.2 Create a variable called z, assign x + y to it, and display the result.\n",
        "\n",
        "x = 10\n",
        "y= 20\n",
        "\n",
        "# TODO: Wrtie your code below\n",
        "\n",
        "z= x + y\n",
        "print(z)\n",
        "\n"
      ],
      "metadata": {
        "colab": {
          "base_uri": "https://localhost:8080/"
        },
        "id": "0uYtpGUVXXSb",
        "outputId": "65ccfafe-2867-4ad1-b86a-0f449a7d2d03"
      },
      "execution_count": null,
      "outputs": [
        {
          "output_type": "stream",
          "name": "stdout",
          "text": [
            "30\n"
          ]
        }
      ]
    },
    {
      "cell_type": "code",
      "source": [
        "# 1.2.3 Remove the illegal characters in the variable name:\n",
        "#2city_name = \"London\"\n",
        "# TODO: Update the code below\n",
        "city_name = \"London\""
      ],
      "metadata": {
        "id": "V5vp3_v8XdM_"
      },
      "execution_count": null,
      "outputs": []
    },
    {
      "cell_type": "code",
      "source": [
        "# 1.2.4 Insert the correct keyword to make the variable x belong to the global scope.\n",
        "# HINT: https://www.w3schools.com/python/python_variables_global.asp\n",
        "\n",
        "# TODO: Update the code below\n",
        "def myfunc():\n",
        "  global x\n",
        "  x = \"fantastic\"\n",
        "\n",
        "\n"
      ],
      "metadata": {
        "id": "N1ZH2XOWXeme"
      },
      "execution_count": 1,
      "outputs": []
    },
    {
      "cell_type": "code",
      "source": [
        "# 1.2.5 write a program that switches the values stored in variables a and b.\n",
        "\n",
        "a = 5\n",
        "b = 4\n",
        "\n",
        "# TODO: Write your code below\n",
        "temp = a\n",
        "a = b\n",
        "b = temp\n",
        "\n",
        "\n",
        "\n",
        "print('a : ',a)\n",
        "print('b : ',b)\n"
      ],
      "metadata": {
        "colab": {
          "base_uri": "https://localhost:8080/"
        },
        "id": "2rsvtZy_XgkA",
        "outputId": "4c0e9613-b0b1-4015-cb53-5100097ebba5"
      },
      "execution_count": null,
      "outputs": [
        {
          "output_type": "stream",
          "name": "stdout",
          "text": [
            "a :  4\n",
            "b :  5\n"
          ]
        }
      ]
    },
    {
      "cell_type": "code",
      "source": [
        "# 1.3. Data Types\n",
        "# casting, numbers, booleans\n",
        "# HINT: https://www.w3schools.com/python/python_datatypes.asp\n",
        "\n",
        "# 1.3.1 Write a program that add the digits in a two digit number input.\n",
        "# eg. if the input is 45. The the output should be 4+5=9\n",
        "\n",
        "number= input()\n",
        "\n",
        "# TODO: Wrtie your code below\n",
        "x=int(number[0])\n",
        "y=int(number[1])\n",
        "print(x+y)"
      ],
      "metadata": {
        "id": "YywJ9_PUXjpr"
      },
      "execution_count": null,
      "outputs": []
    }
  ]
}