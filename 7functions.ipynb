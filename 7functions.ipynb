{
  "nbformat": 4,
  "nbformat_minor": 0,
  "metadata": {
    "colab": {
      "provenance": []
    },
    "kernelspec": {
      "name": "python3",
      "display_name": "Python 3"
    },
    "language_info": {
      "name": "python"
    }
  },
  "cells": [
    {
      "cell_type": "code",
      "execution_count": 1,
      "metadata": {
        "id": "vaLoF-W_hwXz"
      },
      "outputs": [],
      "source": [
        "# 7.1 Functions\n",
        "\n",
        "# 7.1.1 Create a function named function1 that prints this string \"Hello World\"\n",
        "# TODO: Write your code below\n",
        "def function1():\n",
        "  print(\"Hello World\")"
      ]
    },
    {
      "cell_type": "code",
      "source": [
        "# 7.1.2 Execute the functon function1\n",
        "# TODO: Write your code below\n",
        "function1()"
      ],
      "metadata": {
        "colab": {
          "base_uri": "https://localhost:8080/"
        },
        "id": "WoS0PyMxivfk",
        "outputId": "f27d05c7-09a9-414d-82ca-fe05404e14d6"
      },
      "execution_count": 2,
      "outputs": [
        {
          "output_type": "stream",
          "name": "stdout",
          "text": [
            "Hello World\n"
          ]
        }
      ]
    },
    {
      "cell_type": "code",
      "source": [
        "# 7.1.3 Create a function named function2 that takes in one integer parameter number1. The function adds 5 to the input number1, and prints the result\n",
        "# TODO: Write your code below\n",
        "def function2(number1):\n",
        "  result = number1+5\n",
        "  print(result)\n",
        "function2(5)"
      ],
      "metadata": {
        "colab": {
          "base_uri": "https://localhost:8080/"
        },
        "id": "rC8tA8NDi51M",
        "outputId": "7404113e-1779-450d-9abb-8911f9cf9f53"
      },
      "execution_count": 3,
      "outputs": [
        {
          "output_type": "stream",
          "name": "stdout",
          "text": [
            "10\n"
          ]
        }
      ]
    },
    {
      "cell_type": "code",
      "source": [
        "# 7.1.4 Create a function named compare_numbers() with two arguments. If the first argument is greater than the second, print \"first number is greater\".\n",
        "# If the second number is greater than the first, print \"first number is smaller\". Is the numbers are equal, print \"equal numbers\"\n",
        "# TODO: Write your code below\n",
        "def compare_numbers(number2, number3):\n",
        "  if number2 > number3:\n",
        "    print(\"first number is greater\")\n",
        "  if number2<number3:\n",
        "    print(\"first number is smaller\")\n",
        "  else:\n",
        "    print(\"equal numbers\")"
      ],
      "metadata": {
        "id": "lwyHUVPsi88a"
      },
      "execution_count": 4,
      "outputs": []
    },
    {
      "cell_type": "code",
      "source": [
        "# 7.2 Create a lambda function that takes one parameter (a) and returns it.\n",
        "# TODO: Write your code below\n",
        "lambda_function = lambda a: a\n",
        "print(lambda_function(5))"
      ],
      "metadata": {
        "colab": {
          "base_uri": "https://localhost:8080/"
        },
        "id": "noVTzqVhi96i",
        "outputId": "33a5b15c-2889-4fe0-d041-c2432a5519a9"
      },
      "execution_count": 5,
      "outputs": [
        {
          "output_type": "stream",
          "name": "stdout",
          "text": [
            "5\n"
          ]
        }
      ]
    },
    {
      "cell_type": "code",
      "source": [
        "### 7.3 Python built-in functions : https://www.w3schools.com/python/python_ref_functions.asp\n",
        "\n",
        "nums = [11,33,14,2,58,65,34]\n",
        "# 7.3.1 Using Python's built in sum() function, print the sum of the numbers in the list nums\n",
        "# TODO: Write your code below\n",
        "sum(nums)"
      ],
      "metadata": {
        "colab": {
          "base_uri": "https://localhost:8080/"
        },
        "id": "zu8e6wicjGIH",
        "outputId": "12d2cf28-a4ff-454e-b3f7-2ae36483c532"
      },
      "execution_count": 7,
      "outputs": [
        {
          "output_type": "execute_result",
          "data": {
            "text/plain": [
              "217"
            ]
          },
          "metadata": {},
          "execution_count": 7
        }
      ]
    },
    {
      "cell_type": "code",
      "source": [
        "nums = [11,33,14,2,58,65,34]\n",
        "# 7.3.2 Using Python's built in min() function, print the minimum of the numbers in the list nums\n",
        "# TODO: Write your code below\n",
        "min(nums)"
      ],
      "metadata": {
        "colab": {
          "base_uri": "https://localhost:8080/"
        },
        "id": "qIoHp4NFjOit",
        "outputId": "80dcff02-2713-452c-9c69-3bd97532d0c5"
      },
      "execution_count": 9,
      "outputs": [
        {
          "output_type": "execute_result",
          "data": {
            "text/plain": [
              "2"
            ]
          },
          "metadata": {},
          "execution_count": 9
        }
      ]
    },
    {
      "cell_type": "code",
      "source": [
        "nums = [11,33,14,2,58,65,34]\n",
        "# 7.3.3 Using Python's built in abs() function, print the absolute value of -6.\n",
        "# TODO: Write your code below\n",
        "abs(-6)"
      ],
      "metadata": {
        "colab": {
          "base_uri": "https://localhost:8080/"
        },
        "id": "CeuxxFebjWOk",
        "outputId": "cb04bbaa-f9a0-41e3-e12d-5cf87c749beb"
      },
      "execution_count": 10,
      "outputs": [
        {
          "output_type": "execute_result",
          "data": {
            "text/plain": [
              "6"
            ]
          },
          "metadata": {},
          "execution_count": 10
        }
      ]
    },
    {
      "cell_type": "code",
      "source": [
        "nums = [11,33,14,2,58,65,34]\n",
        "# 7.3.4 Using Python's built in round() function, round the number 4.67888 to two decomal places.\n",
        "# TODO: Write your code below\n",
        "round(4.67888, 2)"
      ],
      "metadata": {
        "colab": {
          "base_uri": "https://localhost:8080/"
        },
        "id": "tH8EoMcVjZjW",
        "outputId": "d8d0f0a3-d2f3-48cd-ac15-ae676845815f"
      },
      "execution_count": 11,
      "outputs": [
        {
          "output_type": "execute_result",
          "data": {
            "text/plain": [
              "4.68"
            ]
          },
          "metadata": {},
          "execution_count": 11
        }
      ]
    },
    {
      "cell_type": "code",
      "source": [
        "# 7.4 Python Modules\n",
        "# HINT: https://www.w3schools.com/python/python_modules.asp\n",
        "# HINT: https://realpython.com/python-modules-packages/\n",
        "# HINT: https://docs.python.org/3/tutorial/modules.html\n",
        "# 7.4.1 Create a python module mod.\n",
        "# In mod.py, create a function psum(number1, number2) that takes two arguments and prints the sum of them. Assume the input arguments to be numbers.\n",
        "# In mod.py, create a function pmultiply(number1, number2) that takes two arguments and prints the product of them. Assume the input arguments to be numbers.\n",
        "def psum(number1, number2):\n",
        ""
      ],
      "metadata": {
        "id": "boibnpK7jdcS"
      },
      "execution_count": 23,
      "outputs": []
    },
    {
      "cell_type": "code",
      "source": [
        "# 7.4.2 Create python file main.py and import the module mod.\n",
        "# In main.py run the psum() and pmultiply() functions from the module mod using any two numbers.\n",
        "def pmultiply(number1, number2):"
      ],
      "metadata": {
        "colab": {
          "base_uri": "https://localhost:8080/",
          "height": 140
        },
        "id": "GERRuoxgls8q",
        "outputId": "6cf9e783-4ed7-4827-efca-a33167f38a62"
      },
      "execution_count": 24,
      "outputs": [
        {
          "output_type": "error",
          "ename": "SyntaxError",
          "evalue": "ignored",
          "traceback": [
            "\u001b[0;36m  File \u001b[0;32m\"<ipython-input-24-410afb8ce325>\"\u001b[0;36m, line \u001b[0;32m3\u001b[0m\n\u001b[0;31m    def pmultiply(number1, number2):\u001b[0m\n\u001b[0m                                    ^\u001b[0m\n\u001b[0;31mSyntaxError\u001b[0m\u001b[0;31m:\u001b[0m incomplete input\n"
          ]
        }
      ]
    }
  ]
}