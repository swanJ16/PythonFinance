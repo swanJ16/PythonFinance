{
  "nbformat": 4,
  "nbformat_minor": 0,
  "metadata": {
    "colab": {
      "provenance": []
    },
    "kernelspec": {
      "name": "python3",
      "display_name": "Python 3"
    },
    "language_info": {
      "name": "python"
    }
  },
  "cells": [
    {
      "cell_type": "code",
      "execution_count": 1,
      "metadata": {
        "colab": {
          "base_uri": "https://localhost:8080/"
        },
        "id": "mhZQUtEResfN",
        "outputId": "4c7f8c71-ebd7-437f-d3c2-c69d86c6e0f6"
      },
      "outputs": [
        {
          "output_type": "stream",
          "name": "stdout",
          "text": [
            "NO\n"
          ]
        }
      ],
      "source": [
        "# 5conditionals.py\n",
        "\n",
        "# 5.1 If ... else\n",
        "\n",
        "a = 20\n",
        "b = 40\n",
        "\n",
        "c=10\n",
        "d=40\n",
        "\n",
        "# 5.1.1 Print \"Yes\" if a is equal to b, otherwise print \"No\".\n",
        "# TODO: Write your code below\n",
        "if a==b:\n",
        "    print('YES')\n",
        "else:\n",
        "    print('NO')\n"
      ]
    },
    {
      "cell_type": "code",
      "source": [
        "# 5.1.2 Print \"1\" if a is equal to b, print \"2\" if a is greater than b, otherwise print \"3\".\n",
        "# TODO: Write your code below\n",
        "if a==b:\n",
        "    print('1')\n",
        "elif a>b:\n",
        "    print('2')\n",
        "else:\n",
        "    print('3')\n"
      ],
      "metadata": {
        "colab": {
          "base_uri": "https://localhost:8080/"
        },
        "id": "lU47OiJzgdDO",
        "outputId": "9a0910d3-0b3b-4da1-b158-575e61a8f4b9"
      },
      "execution_count": 2,
      "outputs": [
        {
          "output_type": "stream",
          "name": "stdout",
          "text": [
            "3\n"
          ]
        }
      ]
    },
    {
      "cell_type": "code",
      "source": [
        "# 5.1.3 Print \"Hello\" if a is equal to b, and c is equal to d.\n",
        "# TODO: Write your code below\n",
        "if a==b and c==d:\n",
        "    print('hello world')\n",
        "else:\n",
        "    print('Its not true')\n"
      ],
      "metadata": {
        "colab": {
          "base_uri": "https://localhost:8080/"
        },
        "id": "BDwreHtFgiUH",
        "outputId": "9f60720d-0b69-4f57-a91d-bbfbc1519f9f"
      },
      "execution_count": 3,
      "outputs": [
        {
          "output_type": "stream",
          "name": "stdout",
          "text": [
            "Its not true\n"
          ]
        }
      ]
    },
    {
      "cell_type": "code",
      "source": [
        "# 5.1.4 Print \"Hello\" if a is equal to b, or if c is equal to d.\n",
        "# TODO: Write your code below\n",
        "if a == b or c == d:\n",
        "    print('hello world')\n",
        "else:\n",
        "    print('Its not true')\n"
      ],
      "metadata": {
        "colab": {
          "base_uri": "https://localhost:8080/"
        },
        "id": "CHn8sh3ogl7f",
        "outputId": "a1a8a3cc-b0da-4e6a-99bf-8a56c37cffa3"
      },
      "execution_count": 5,
      "outputs": [
        {
          "output_type": "stream",
          "name": "stdout",
          "text": [
            "Its not true\n"
          ]
        }
      ]
    },
    {
      "cell_type": "code",
      "source": [
        "# 5.2 Write a program that checks whether an input number is odd or even. Print whether the input number is odd or even\n",
        "# HINT:\n",
        "# even numbers can be divided by 2 with no remainder. when odd numbers are divided by 2 there is a remainder.\n",
        "# eg. 42 is even because 42/2 = 21 and has no remainder\n",
        "# eg. example, 33 is odd because 33/3 = 16.5 is not a whole number.\n",
        "# we can use the module operator (%) in python to get the remainder after a division.\n",
        "# eg. 5%2 = 1 since 5 divided by 2 has a remainder 1. So 5 is odd\n",
        "# eg. 6%2 = 0 since 6 divided by 2 has a remainder 0. So 6 is even.\n",
        "\n",
        "#number to check\n",
        "number = int(input('enter a number'))\n",
        "\n",
        "# TODO: write your code below\n",
        "if number % 2 == 0:\n",
        "    print('even number')\n",
        "else:\n",
        "    print('odd number')\n"
      ],
      "metadata": {
        "colab": {
          "base_uri": "https://localhost:8080/"
        },
        "id": "x780_lfIgweT",
        "outputId": "503a28d3-08fc-448e-a019-fd3b154d4d81"
      },
      "execution_count": 8,
      "outputs": [
        {
          "output_type": "stream",
          "name": "stdout",
          "text": [
            "enter a number2\n",
            "even number\n"
          ]
        }
      ]
    }
  ]
}