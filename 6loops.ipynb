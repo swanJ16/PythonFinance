{
  "nbformat": 4,
  "nbformat_minor": 0,
  "metadata": {
    "colab": {
      "provenance": []
    },
    "kernelspec": {
      "name": "python3",
      "display_name": "Python 3"
    },
    "language_info": {
      "name": "python"
    }
  },
  "cells": [
    {
      "cell_type": "code",
      "execution_count": 1,
      "metadata": {
        "colab": {
          "base_uri": "https://localhost:8080/"
        },
        "id": "u89p9JYUhQ9D",
        "outputId": "88172f3f-602d-40c9-dac7-956ba8baa561"
      },
      "outputs": [
        {
          "output_type": "stream",
          "name": "stdout",
          "text": [
            "kiwi\n",
            "banana\n",
            "cherry\n"
          ]
        }
      ],
      "source": [
        "# 6loops.py\n",
        "\n",
        "# 6.1 For Loops\n",
        "\n",
        "fruits = [\"kiwi\", \"banana\", \"cherry\"]\n",
        "\n",
        "# 6.1.1 Use a for loop to loop through the items in the fruits list and print each item.\n",
        "# TODO: Write your code below\n",
        "for x in fruits:\n",
        "  print(x)\n"
      ]
    },
    {
      "cell_type": "code",
      "source": [
        "# 6.1.2 In the for loop to loop through the items in the fruits list,  when the item value is \"banana\", jump directly to the next item.\n",
        "# TODO: Write your code below\n",
        "for x in fruits:\n",
        "  if x == \"banana\":\n",
        "    continue\n",
        "  print(x)\n"
      ],
      "metadata": {
        "colab": {
          "base_uri": "https://localhost:8080/"
        },
        "id": "WIcgs--3hZ_9",
        "outputId": "a85f3113-c7bb-45ed-9098-9e787a43d5e5"
      },
      "execution_count": 2,
      "outputs": [
        {
          "output_type": "stream",
          "name": "stdout",
          "text": [
            "kiwi\n",
            "cherry\n"
          ]
        }
      ]
    },
    {
      "cell_type": "code",
      "source": [
        "# 6.1.3 In the for loop to loop through the items in the fruits list, exit the loop when the item is \"banana\".\n",
        "# TODO: Write your code below\n",
        "for x in fruits:\n",
        "  if x == \"banana\":\n",
        "    break\n",
        "  print(x)\n"
      ],
      "metadata": {
        "colab": {
          "base_uri": "https://localhost:8080/"
        },
        "id": "o_1fZd97hcLv",
        "outputId": "14acd860-a9fc-45d4-f9dd-64979708fd6a"
      },
      "execution_count": 3,
      "outputs": [
        {
          "output_type": "stream",
          "name": "stdout",
          "text": [
            "kiwi\n"
          ]
        }
      ]
    },
    {
      "cell_type": "code",
      "source": [
        "\n",
        "# 6.1.4 Using the Python range() function, create a sequence of numbers from 0 to 5, and print each item in the sequence in a new line:\n",
        "# HINT: https://www.w3schools.com/python/ref_func_range.asp\n",
        "# TODO: Write your code below\n",
        "for x in range(6):\n",
        "    print(x)\n"
      ],
      "metadata": {
        "colab": {
          "base_uri": "https://localhost:8080/"
        },
        "id": "tW02bTeGhfga",
        "outputId": "31b27bae-6ff0-4f15-f8df-3009f13b4040"
      },
      "execution_count": 4,
      "outputs": [
        {
          "output_type": "stream",
          "name": "stdout",
          "text": [
            "0\n",
            "1\n",
            "2\n",
            "3\n",
            "4\n",
            "5\n"
          ]
        }
      ]
    }
  ]
}