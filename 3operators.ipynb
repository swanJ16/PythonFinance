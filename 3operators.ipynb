{
  "nbformat": 4,
  "nbformat_minor": 0,
  "metadata": {
    "colab": {
      "provenance": []
    },
    "kernelspec": {
      "name": "python3",
      "display_name": "Python 3"
    },
    "language_info": {
      "name": "python"
    }
  },
  "cells": [
    {
      "cell_type": "code",
      "execution_count": 1,
      "metadata": {
        "colab": {
          "base_uri": "https://localhost:8080/"
        },
        "id": "EXBopC6faiBx",
        "outputId": "92783b49-df00-4b09-b877-f27bd6b100d5"
      },
      "outputs": [
        {
          "output_type": "stream",
          "name": "stdout",
          "text": [
            "32\n"
          ]
        }
      ],
      "source": [
        "#3operators.py\n",
        "\n",
        "# 3.1 Operators\n",
        "\n",
        "# 3.1.1 Multiply 4 with 8, and print the result.\n",
        "# TODO: Write your code below\n",
        "print(4*8)"
      ]
    },
    {
      "cell_type": "code",
      "source": [
        "# 3.1.2 Divide 30 by 6, and print the result.\n",
        "# TODO: Write your code below\n",
        "print(30/6)"
      ],
      "metadata": {
        "colab": {
          "base_uri": "https://localhost:8080/"
        },
        "id": "YMNMTjmnan5e",
        "outputId": "564283c2-b519-4ff5-f0d3-98e0754fe3ec"
      },
      "execution_count": 2,
      "outputs": [
        {
          "output_type": "stream",
          "name": "stdout",
          "text": [
            "5.0\n"
          ]
        }
      ]
    }
  ]
}