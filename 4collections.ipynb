{
  "nbformat": 4,
  "nbformat_minor": 0,
  "metadata": {
    "colab": {
      "provenance": []
    },
    "kernelspec": {
      "name": "python3",
      "display_name": "Python 3"
    },
    "language_info": {
      "name": "python"
    }
  },
  "cells": [
    {
      "cell_type": "code",
      "execution_count": 2,
      "metadata": {
        "colab": {
          "base_uri": "https://localhost:8080/"
        },
        "id": "eumDKNtNa35w",
        "outputId": "56b101db-91e4-4200-af52-b50910621c4f"
      },
      "outputs": [
        {
          "output_type": "stream",
          "name": "stdout",
          "text": [
            "Second item in the list: pineapple\n"
          ]
        }
      ],
      "source": [
        "#4collections.py\n",
        "\n",
        "# 4.1 PYTHON Lists\n",
        "\n",
        "fruits = [\"kiwi\", \"pineapple\", \"apple\"]\n",
        "\n",
        "# 4.1.1 Print the second item in the fruits list.\n",
        "# TODO: Write your code below\n",
        "print('Second item in the list:', fruits[1])"
      ]
    },
    {
      "cell_type": "code",
      "source": [
        "fruits = [\"kiwi\", \"pineapple\", \"apple\"]\n",
        "# 4.1.2 Change the value from \"kiwi\" to \"orange\", in the fruits list.\n",
        "# TODO: Write your code below\n",
        "fruits[0] = \"orange\"\n",
        "print(fruits)\n"
      ],
      "metadata": {
        "colab": {
          "base_uri": "https://localhost:8080/"
        },
        "id": "eY6F_81WbJYw",
        "outputId": "7180d6b8-5d8c-4b18-972d-fdbb823a5ab3"
      },
      "execution_count": 3,
      "outputs": [
        {
          "output_type": "stream",
          "name": "stdout",
          "text": [
            "['orange', 'pineapple', 'apple']\n"
          ]
        }
      ]
    },
    {
      "cell_type": "code",
      "source": [
        "fruits = [\"kiwi\", \"pineapple\", \"apple\"]\n",
        "# 4.1.3 Use the insert method to add \"lemon\" as the second item in the fruits list.\n",
        "# TODO: Write your code below\n",
        "fruits.insert(1,\"lemon\")\n",
        "print(\"updated fruits list after inserting lemon:\", fruits)\n"
      ],
      "metadata": {
        "colab": {
          "base_uri": "https://localhost:8080/"
        },
        "id": "H1ZbXcEDbV1U",
        "outputId": "ec47c01d-59e8-42cc-f5e1-3bbd5ec9bf93"
      },
      "execution_count": 5,
      "outputs": [
        {
          "output_type": "stream",
          "name": "stdout",
          "text": [
            "updated fruits list after inserting lemon: ['kiwi', 'lemon', 'pineapple', 'apple']\n"
          ]
        }
      ]
    },
    {
      "cell_type": "code",
      "source": [
        "fruits = [\"kiwi\", \"pineapple\", \"apple\"]\n",
        "# 4.1.4 Use the remove method to remove \"pineapple\" from the fruits list.\n",
        "# TODO: Write your code below\n",
        "fruits.remove(\"pineapple\")\n",
        "print(\"updated fruits list after remove pineappe:\", fruits)\n"
      ],
      "metadata": {
        "colab": {
          "base_uri": "https://localhost:8080/"
        },
        "id": "fNlyxLD7bg_o",
        "outputId": "b911c125-1a65-4c83-abff-9dfa6872ebd8"
      },
      "execution_count": 6,
      "outputs": [
        {
          "output_type": "stream",
          "name": "stdout",
          "text": [
            "updated fruits list after remove pineappe: ['kiwi', 'apple']\n"
          ]
        }
      ]
    },
    {
      "cell_type": "code",
      "source": [
        "fruits = [\"kiwi\", \"pineapple\", \"apple\"]\n",
        "# 4.1.5 Use negative indexing to print the last item in the list.\n",
        "# TODO: Write your code below\n",
        "print(\"last item in fruits:\", fruits[-1])"
      ],
      "metadata": {
        "colab": {
          "base_uri": "https://localhost:8080/"
        },
        "id": "_gUJF_2Tbscw",
        "outputId": "f2d8c9ea-ba68-4874-9281-32a14b40cfbf"
      },
      "execution_count": 7,
      "outputs": [
        {
          "output_type": "stream",
          "name": "stdout",
          "text": [
            "last item in fruits: apple\n"
          ]
        }
      ]
    },
    {
      "cell_type": "code",
      "source": [
        "# 4.1.6 Use a range of indexes to print the third, fourth, and fifth item in the list fruits2.\n",
        "\n",
        "fruits2 = [\"apple\", \"banana\", \"cherry\", \"orange\", \"kiwi\", \"melon\", \"mango\"]\n",
        "# TODO: Write your code below\n",
        "print(\"third, fourth and fifth items:\", fruits2[2:5])"
      ],
      "metadata": {
        "colab": {
          "base_uri": "https://localhost:8080/"
        },
        "id": "s9sZqxX3bySp",
        "outputId": "fa64d205-3831-42c0-bed3-36313af6268d"
      },
      "execution_count": 8,
      "outputs": [
        {
          "output_type": "stream",
          "name": "stdout",
          "text": [
            "third, fourth and fifth items: ['cherry', 'orange', 'kiwi']\n"
          ]
        }
      ]
    },
    {
      "cell_type": "code",
      "source": [
        "fruits2 = [\"apple\", \"banana\", \"cherry\", \"orange\", \"kiwi\", \"melon\", \"mango\"]\n",
        "# 4.1.7 Use the correct syntax to print the number of items in the list fruits\n",
        "# TODO: Write your code below\n",
        "print(\"items count\",len(fruits))"
      ],
      "metadata": {
        "colab": {
          "base_uri": "https://localhost:8080/"
        },
        "id": "Zy6pKNEtb5hb",
        "outputId": "4834a0f7-22d3-4094-82a8-285fd0b5785c"
      },
      "execution_count": 9,
      "outputs": [
        {
          "output_type": "stream",
          "name": "stdout",
          "text": [
            "items count 3\n"
          ]
        }
      ]
    },
    {
      "cell_type": "code",
      "source": [
        "# 4.1.8  Write a program that add the average of numbers in a list scores.\n",
        "# you are not allowed to use the sum() or len() functions.\n",
        "\n",
        "# TODO: Write your code below\n",
        "scores = [50, 55, 56, 70, 80, 60, 66]\n",
        "length = 0\n",
        "total = 0\n",
        "for x in scores:\n",
        "    total += x\n",
        "    length += 1\n",
        "print(total)\n",
        "print(length)\n",
        "print(total/length)"
      ],
      "metadata": {
        "colab": {
          "base_uri": "https://localhost:8080/"
        },
        "id": "ha38TtTKcCmv",
        "outputId": "f57fe5e0-2079-4138-9dce-1ec0f7f1af4c"
      },
      "execution_count": 28,
      "outputs": [
        {
          "output_type": "stream",
          "name": "stdout",
          "text": [
            "437\n",
            "7\n",
            "62.42857142857143\n"
          ]
        }
      ]
    },
    {
      "cell_type": "code",
      "source": [
        "# 4.1.9 Write a program that calculates the highest number in a list scores\n",
        "# you are not allowed to use the max or min functions.\n",
        "scores = [50, 55, 56, 70, 80, 60, 66]\n",
        "\n",
        "# TODO: Write your code below\n",
        "max = -100\n",
        "for x in scores:\n",
        "    if x>max:\n",
        "        max=x\n",
        "print('largest number in scores list is:', max)"
      ],
      "metadata": {
        "colab": {
          "base_uri": "https://localhost:8080/"
        },
        "id": "xXVDRjwve8-5",
        "outputId": "c820c5ab-31ee-4a28-d2ef-e21c1c9bdd99"
      },
      "execution_count": 30,
      "outputs": [
        {
          "output_type": "stream",
          "name": "stdout",
          "text": [
            "largest number in scores list is: 80\n"
          ]
        }
      ]
    },
    {
      "cell_type": "code",
      "source": [
        "# 4.2. PYTHON Dictionaries\n",
        "\n",
        "car = {\n",
        "  \"brand\": \"Renault\",\n",
        "  \"model\": \"Clio\",\n",
        "  \"year\": 2018\n",
        "}\n",
        "\n",
        "# 4.2.1 Use the get method to print the value of the \"model\" key of the car dictionary.\n",
        "# TODO: Write your code below\n",
        "\n",
        "print('value for model in car dictonnary:', car.get('model'))\n",
        "\n"
      ],
      "metadata": {
        "colab": {
          "base_uri": "https://localhost:8080/"
        },
        "id": "MueDNbCMfNFK",
        "outputId": "a628b3d4-e50b-46c5-be7f-1be7b9a49a11"
      },
      "execution_count": 32,
      "outputs": [
        {
          "output_type": "stream",
          "name": "stdout",
          "text": [
            "value for model in car dictonnary: Clio\n"
          ]
        }
      ]
    },
    {
      "cell_type": "code",
      "source": [
        "# 4.2.2 Change the \"year\" value from 2018 to 2020 in the car dictionary.\n",
        "# TODO: Write your code below\n",
        "car[\"year\"] = 2020\n",
        "print('updated value of year:', car['year'])\n"
      ],
      "metadata": {
        "colab": {
          "base_uri": "https://localhost:8080/"
        },
        "id": "fVSAwtiEfp4t",
        "outputId": "5ee46f85-0445-45c8-d76f-cc8fa61ffbeb"
      },
      "execution_count": 33,
      "outputs": [
        {
          "output_type": "stream",
          "name": "stdout",
          "text": [
            "updated value of year: 2020\n"
          ]
        }
      ]
    },
    {
      "cell_type": "code",
      "source": [
        "# 4.2.3 TODO: Add the key/value pair \"color\" : \"blue\" to the car dictionary.\n",
        "# TODO: Write your code below\n",
        "\n",
        "car[\"color\"] = \"blue\"\n",
        "print(\"updated dictionary car\", car)\n"
      ],
      "metadata": {
        "colab": {
          "base_uri": "https://localhost:8080/"
        },
        "id": "rViQVxdEftb4",
        "outputId": "4a1b11b2-fa1e-4576-8fa1-b861943c081f"
      },
      "execution_count": 34,
      "outputs": [
        {
          "output_type": "stream",
          "name": "stdout",
          "text": [
            "updated dictionary car {'brand': 'Renault', 'model': 'Clio', 'year': 2020, 'color': 'blue'}\n"
          ]
        }
      ]
    },
    {
      "cell_type": "code",
      "source": [
        "# 4.2.4 Use the pop method to remove \"model\" from the car dictionary.\n",
        "# TODO: Write your code below\n",
        "car.pop('model')\n",
        "print('model removed from car dict:', car)\n"
      ],
      "metadata": {
        "colab": {
          "base_uri": "https://localhost:8080/"
        },
        "id": "vWrpuvqmf_5J",
        "outputId": "107e647d-cdf7-4e14-cf3f-d3fba148717c"
      },
      "execution_count": 35,
      "outputs": [
        {
          "output_type": "stream",
          "name": "stdout",
          "text": [
            "model removed from car dict: {'brand': 'Renault', 'year': 2020, 'color': 'blue'}\n"
          ]
        }
      ]
    },
    {
      "cell_type": "code",
      "source": [
        "# 4.2.5 Use the clear method to empty the car dictionary.\n",
        "# TODO: Write your code below\n",
        "car.clear()\n",
        "print('cleared car dict:', car)\n"
      ],
      "metadata": {
        "colab": {
          "base_uri": "https://localhost:8080/"
        },
        "id": "oK4siTnggMq5",
        "outputId": "c5e92642-f5aa-4b87-c851-24040bd8c857"
      },
      "execution_count": 36,
      "outputs": [
        {
          "output_type": "stream",
          "name": "stdout",
          "text": [
            "cleared car dict: {}\n"
          ]
        }
      ]
    }
  ]
}