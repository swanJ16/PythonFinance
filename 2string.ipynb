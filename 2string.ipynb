{
  "nbformat": 4,
  "nbformat_minor": 0,
  "metadata": {
    "colab": {
      "provenance": []
    },
    "kernelspec": {
      "name": "python3",
      "display_name": "Python 3"
    },
    "language_info": {
      "name": "python"
    }
  },
  "cells": [
    {
      "cell_type": "code",
      "execution_count": 1,
      "metadata": {
        "colab": {
          "base_uri": "https://localhost:8080/"
        },
        "id": "wIMe7TVrZE8m",
        "outputId": "1383b40f-2f61-49ab-e8cf-7d442fabce64"
      },
      "outputs": [
        {
          "output_type": "stream",
          "name": "stdout",
          "text": [
            "15\n"
          ]
        }
      ],
      "source": [
        "#2string.py\n",
        "\n",
        "# 2.1 Strings\n",
        "# HINT: https://www.w3schools.com/python/python_strings.asp\n",
        "\n",
        "txt = \"Merry Christmas\"\n",
        "# 2.1.1 print the length of the string\n",
        "# TODO: Write your code below\n",
        "print(len(txt))"
      ]
    },
    {
      "cell_type": "code",
      "source": [
        "txt = \"Merry Christmas\"\n",
        "# 2.1.2 Print the first character of the string txt.\n",
        "# TODO: Write your code below\n",
        "print(txt[0])"
      ],
      "metadata": {
        "colab": {
          "base_uri": "https://localhost:8080/"
        },
        "id": "fpnJye5FZR7u",
        "outputId": "86c8459b-76a1-4380-c8ce-4f5d8cdb38e9"
      },
      "execution_count": 2,
      "outputs": [
        {
          "output_type": "stream",
          "name": "stdout",
          "text": [
            "M\n"
          ]
        }
      ]
    },
    {
      "cell_type": "code",
      "source": [
        "txt = \"Merry Christmas\"\n",
        "# 2.1.3 Get the characters from index 1 to index 3 (err).\n",
        "# TODO: Write your code below\n",
        "print(txt[1:4])\n"
      ],
      "metadata": {
        "colab": {
          "base_uri": "https://localhost:8080/"
        },
        "id": "7uNGjAwDZY76",
        "outputId": "170155c1-024a-41ca-be30-ce602c5ef374"
      },
      "execution_count": 5,
      "outputs": [
        {
          "output_type": "stream",
          "name": "stdout",
          "text": [
            "err\n"
          ]
        }
      ]
    },
    {
      "cell_type": "code",
      "source": [
        "txt = \"Merry Christmas\"\n",
        "# 2.1.4 Convert the value of txt to upper case and print it.\n",
        "# TODO: Write your code below\n",
        "print(txt.upper())"
      ],
      "metadata": {
        "colab": {
          "base_uri": "https://localhost:8080/"
        },
        "id": "wapg6Vg2Zx7W",
        "outputId": "3d4fe4ea-b580-46a1-c217-2ce7b02daaa2"
      },
      "execution_count": 6,
      "outputs": [
        {
          "output_type": "stream",
          "name": "stdout",
          "text": [
            "MERRY CHRISTMAS\n"
          ]
        }
      ]
    },
    {
      "cell_type": "code",
      "source": [
        "txt = \"Merry Christmas\"\n",
        "# 2.1.5 Convert the value of txt to lower case and print it.\n",
        "# TODO: Write your code below\n",
        "print(txt.lower())"
      ],
      "metadata": {
        "colab": {
          "base_uri": "https://localhost:8080/"
        },
        "id": "SyFPgPBZZ4qF",
        "outputId": "66e828e5-e6a2-4067-bb4a-7d42951362e0"
      },
      "execution_count": 7,
      "outputs": [
        {
          "output_type": "stream",
          "name": "stdout",
          "text": [
            "merry christmas\n"
          ]
        }
      ]
    },
    {
      "cell_type": "code",
      "source": [
        "# 2.1.6 Return the string without any whitespace at the beginning or the end.\n",
        "x = \" Hello World \"\n",
        "# TODO: Write your code below\n",
        "print(x.strip())"
      ],
      "metadata": {
        "colab": {
          "base_uri": "https://localhost:8080/"
        },
        "id": "7m7fEzhkaCSc",
        "outputId": "a8543683-d002-436b-9622-246d1f192f74"
      },
      "execution_count": 8,
      "outputs": [
        {
          "output_type": "stream",
          "name": "stdout",
          "text": [
            "Hello World\n"
          ]
        }
      ]
    },
    {
      "cell_type": "code",
      "source": [
        "# 2.1.7 Replace the character H with a J and print the result\n",
        "y = \"Hello\"\n",
        "# TODO: Write your code below\n",
        "print(y.replace(\"H\",\"J\"))"
      ],
      "metadata": {
        "colab": {
          "base_uri": "https://localhost:8080/"
        },
        "id": "onD0WUWKaJhv",
        "outputId": "2d209dd4-a3ce-408e-a232-6472e0110d6e"
      },
      "execution_count": 9,
      "outputs": [
        {
          "output_type": "stream",
          "name": "stdout",
          "text": [
            "Jello\n"
          ]
        }
      ]
    },
    {
      "cell_type": "code",
      "source": [
        "# 2.1.8 Insert the correct syntax to add a placeholder for the name parameter.\n",
        "# TODO: Update the code below\n",
        "name = 'John'\n",
        "txt = \"My name is {}\"\n",
        "print(txt.format(name))"
      ],
      "metadata": {
        "colab": {
          "base_uri": "https://localhost:8080/"
        },
        "id": "KLId5EkoaRCP",
        "outputId": "5962f6db-2ffa-4c37-b0d6-5b3cbd70dcdb"
      },
      "execution_count": 10,
      "outputs": [
        {
          "output_type": "stream",
          "name": "stdout",
          "text": [
            "My name is John\n"
          ]
        }
      ]
    }
  ]
}